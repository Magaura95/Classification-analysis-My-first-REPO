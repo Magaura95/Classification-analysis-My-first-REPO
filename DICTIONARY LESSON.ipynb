{
 "cells": [
  {
   "cell_type": "markdown",
   "id": "2288a916-ee11-4df9-adb1-0bb2c9d6b17a",
   "metadata": {},
   "source": [
    "# dictionary"
   ]
  },
  {
   "cell_type": "markdown",
   "id": "382fd17e-8ee4-4f4a-88af-c1e62f73684d",
   "metadata": {},
   "source": [
    "## creating a dictionary"
   ]
  },
  {
   "cell_type": "code",
   "execution_count": 2,
   "id": "3e0806e7-cf00-46a0-a3d3-3ba353aa2e15",
   "metadata": {},
   "outputs": [
    {
     "data": {
      "text/plain": [
       "{'Name': 'Apple', 'Color': 'Red', 'Price': '500', 'Taste': 'Sour'}"
      ]
     },
     "execution_count": 2,
     "metadata": {},
     "output_type": "execute_result"
    }
   ],
   "source": [
    "fruits = {'Name': 'Apple', 'Color': 'Red', 'Price': '500', 'Taste': 'Sour'}\n",
    "fruits"
   ]
  },
  {
   "cell_type": "code",
   "execution_count": 3,
   "id": "8de3ab3c-82db-41ad-af62-ff63e40559cc",
   "metadata": {},
   "outputs": [
    {
     "data": {
      "text/plain": [
       "dict"
      ]
     },
     "execution_count": 3,
     "metadata": {},
     "output_type": "execute_result"
    }
   ],
   "source": [
    "# identifying a dictionary\n",
    "type(fruits)"
   ]
  },
  {
   "cell_type": "code",
   "execution_count": 7,
   "id": "2abad1d8-8f7a-4f76-95a8-6bd461a6d212",
   "metadata": {},
   "outputs": [
    {
     "data": {
      "text/plain": [
       "dict_keys(['Name', 'Color', 'Price', 'Taste'])"
      ]
     },
     "execution_count": 7,
     "metadata": {},
     "output_type": "execute_result"
    }
   ],
   "source": [
    "]#indexing\n",
    "fruits.keys()"
   ]
  },
  {
   "cell_type": "code",
   "execution_count": 9,
   "id": "ebb9d557-befb-46cc-bc34-890322b47799",
   "metadata": {},
   "outputs": [
    {
     "data": {
      "text/plain": [
       "'Apple'"
      ]
     },
     "execution_count": 9,
     "metadata": {},
     "output_type": "execute_result"
    }
   ],
   "source": [
    "fruits['Name']"
   ]
  },
  {
   "cell_type": "code",
   "execution_count": 12,
   "id": "ace0231c-89c1-4ab7-a338-bc56262bb22b",
   "metadata": {},
   "outputs": [
    {
     "name": "stdout",
     "output_type": "stream",
     "text": [
      "The color of fruit is Red\n"
     ]
    }
   ],
   "source": [
    "#reading the color of fruit\n",
    "print('The color of fruit is', fruits['Color'])\n"
   ]
  },
  {
   "cell_type": "code",
   "execution_count": 17,
   "id": "c85c04e2-cce3-4170-aba5-35b320bdd265",
   "metadata": {},
   "outputs": [
    {
     "name": "stdout",
     "output_type": "stream",
     "text": [
      "The name of my fruit is Apple it is color Red it was sold for 500 Naira but it was Sour\n"
     ]
    }
   ],
   "source": [
    "# READING THE ATTRIBUTES OF MY FRUIT\n",
    "print('The name of my fruit is', fruits['Name'], 'it is color', fruits['Color'],'it was sold for', fruits['Price'], 'Naira', 'but it was', fruits['Taste'])"
   ]
  },
  {
   "cell_type": "code",
   "execution_count": 29,
   "id": "02526874-16d8-4157-8383-63ab5f52839c",
   "metadata": {},
   "outputs": [
    {
     "name": "stdout",
     "output_type": "stream",
     "text": [
      "The name of my fruit is Apple \n",
      "its color is Red \n",
      "it is sold for 500 naira \n",
      "but it is Sour\n"
     ]
    }
   ],
   "source": [
    "print('The name of my fruit is', fruits['Name'], '\\nits color is', fruits['Color'], '\\nit is sold for', fruits['Price'], 'naira', '\\nbut it is', fruits['Taste'])"
   ]
  },
  {
   "cell_type": "code",
   "execution_count": 36,
   "id": "6497d744-2e53-4716-9f9a-82a35630be8e",
   "metadata": {},
   "outputs": [
    {
     "data": {
      "text/plain": [
       "{'Name': 'Apple',\n",
       " 'Color': 'Red',\n",
       " 'Price': '500',\n",
       " 'Size': 'Big',\n",
       " 'Weight': '500kg'}"
      ]
     },
     "execution_count": 36,
     "metadata": {},
     "output_type": "execute_result"
    }
   ],
   "source": [
    "# insertin new elementin a dictionary\n",
    "fruits['Size'] = 'Big'\n",
    "fruits"
   ]
  },
  {
   "cell_type": "markdown",
   "id": "e3a172fa-935e-43fa-ac5c-1fc85984cd09",
   "metadata": {},
   "source": [
    "fruits['Weight'] = '500kg'\n",
    "fruits"
   ]
  },
  {
   "cell_type": "code",
   "execution_count": 38,
   "id": "d5e9126c-f62a-4fef-946a-1694803ddc31",
   "metadata": {},
   "outputs": [
    {
     "data": {
      "text/plain": [
       "{'Name': 'Apple',\n",
       " 'Color': 'Red',\n",
       " 'Price': '300',\n",
       " 'Size': 'Big',\n",
       " 'Weight': '500kg'}"
      ]
     },
     "execution_count": 38,
     "metadata": {},
     "output_type": "execute_result"
    }
   ],
   "source": [
    "# Updating a dictionary\n",
    "fruits['Price'] = '300'\n",
    "fruits"
   ]
  },
  {
   "cell_type": "markdown",
   "id": "cb2e8d58-e218-4fe2-bda7-3f8a2d2458b3",
   "metadata": {},
   "source": [
    "### DICTIONARY METHODS"
   ]
  },
  {
   "cell_type": "code",
   "execution_count": 41,
   "id": "80cb2da7-4cd8-498a-9365-c5340b5488f3",
   "metadata": {},
   "outputs": [
    {
     "data": {
      "text/plain": [
       "dict_keys(['Name', 'Color', 'Price', 'Size', 'Weight'])"
      ]
     },
     "execution_count": 41,
     "metadata": {},
     "output_type": "execute_result"
    }
   ],
   "source": [
    "# USING THE DOT KEYS METHODS\n",
    "fruits.keys()"
   ]
  },
  {
   "cell_type": "code",
   "execution_count": 43,
   "id": "decfd761-9246-4357-8435-1720ef133f26",
   "metadata": {},
   "outputs": [
    {
     "data": {
      "text/plain": [
       "dict_values(['Apple', 'Red', '300', 'Big', '500kg'])"
      ]
     },
     "execution_count": 43,
     "metadata": {},
     "output_type": "execute_result"
    }
   ],
   "source": [
    "# using the dot value method\n",
    "fruits.values()\n"
   ]
  },
  {
   "cell_type": "code",
   "execution_count": 48,
   "id": "66bb47dd-e8cd-4949-b227-26ce950bb03c",
   "metadata": {},
   "outputs": [],
   "source": [
    "fruits."
   ]
  },
  {
   "cell_type": "code",
   "execution_count": null,
   "id": "cc3e3e69-9e8e-4da7-b9b4-3464e5728cd8",
   "metadata": {},
   "outputs": [],
   "source": [
    " "
   ]
  }
 ],
 "metadata": {
  "kernelspec": {
   "display_name": "Python 3 (ipykernel)",
   "language": "python",
   "name": "python3"
  },
  "language_info": {
   "codemirror_mode": {
    "name": "ipython",
    "version": 3
   },
   "file_extension": ".py",
   "mimetype": "text/x-python",
   "name": "python",
   "nbconvert_exporter": "python",
   "pygments_lexer": "ipython3",
   "version": "3.12.7"
  }
 },
 "nbformat": 4,
 "nbformat_minor": 5
}
